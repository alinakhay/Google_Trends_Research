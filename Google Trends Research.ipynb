{
 "cells": [
  {
   "cell_type": "code",
   "execution_count": 3,
   "metadata": {
    "ExecuteTime": {
     "end_time": "2021-07-13T12:34:41.314158Z",
     "start_time": "2021-07-13T12:34:41.303129Z"
    }
   },
   "outputs": [],
   "source": [
    "# !pip3 install pytrends"
   ]
  },
  {
   "cell_type": "code",
   "execution_count": 4,
   "metadata": {
    "ExecuteTime": {
     "end_time": "2021-07-13T12:34:44.009208Z",
     "start_time": "2021-07-13T12:34:42.983707Z"
    }
   },
   "outputs": [],
   "source": [
    "import pandas as pd\n",
    "from pytrends.request import TrendReq\n",
    "import matplotlib.pyplot as plt\n",
    "trends = TrendReq()"
   ]
  },
  {
   "cell_type": "markdown",
   "metadata": {},
   "source": [
    "## Keyword Interest By Region"
   ]
  },
  {
   "cell_type": "markdown",
   "metadata": {},
   "source": [
    "Let’s see the terms that are popular in the region around the world. I will choose the term to search for as “Data Science”:"
   ]
  },
  {
   "cell_type": "code",
   "execution_count": 6,
   "metadata": {
    "ExecuteTime": {
     "end_time": "2021-07-13T12:35:00.872214Z",
     "start_time": "2021-07-13T12:35:00.335793Z"
    }
   },
   "outputs": [
    {
     "name": "stdout",
     "output_type": "stream",
     "text": [
      "                      Data Science\n",
      "geoName                           \n",
      "Kuwait                           0\n",
      "Mali                             0\n",
      "Kyrgyzstan                       0\n",
      "Nepal                           61\n",
      "Chile                           14\n",
      "Guatemala                        0\n",
      "Sri Lanka                       35\n",
      "United Arab Emirates            42\n",
      "Botswana                         0\n",
      "Mayotte                          0\n",
      "St. Helena                      64\n",
      "Cyprus                           0\n",
      "Guam                             0\n",
      "Costa Rica                       0\n",
      "Argentina                        8\n"
     ]
    }
   ],
   "source": [
    "trends.build_payload(kw_list=[\"Data Science\"])\n",
    "data = trends.interest_by_region()\n",
    "print(data.sample(15))"
   ]
  },
  {
   "cell_type": "code",
   "execution_count": 15,
   "metadata": {
    "ExecuteTime": {
     "end_time": "2021-07-13T12:36:18.522184Z",
     "start_time": "2021-07-13T12:36:18.511180Z"
    }
   },
   "outputs": [
    {
     "data": {
      "text/html": [
       "<div>\n",
       "<style scoped>\n",
       "    .dataframe tbody tr th:only-of-type {\n",
       "        vertical-align: middle;\n",
       "    }\n",
       "\n",
       "    .dataframe tbody tr th {\n",
       "        vertical-align: top;\n",
       "    }\n",
       "\n",
       "    .dataframe thead th {\n",
       "        text-align: right;\n",
       "    }\n",
       "</style>\n",
       "<table border=\"1\" class=\"dataframe\">\n",
       "  <thead>\n",
       "    <tr style=\"text-align: right;\">\n",
       "      <th></th>\n",
       "      <th>Data Science</th>\n",
       "    </tr>\n",
       "    <tr>\n",
       "      <th>geoName</th>\n",
       "      <th></th>\n",
       "    </tr>\n",
       "  </thead>\n",
       "  <tbody>\n",
       "    <tr>\n",
       "      <th>Singapore</th>\n",
       "      <td>100</td>\n",
       "    </tr>\n",
       "    <tr>\n",
       "      <th>China</th>\n",
       "      <td>92</td>\n",
       "    </tr>\n",
       "    <tr>\n",
       "      <th>India</th>\n",
       "      <td>82</td>\n",
       "    </tr>\n",
       "    <tr>\n",
       "      <th>St. Helena</th>\n",
       "      <td>64</td>\n",
       "    </tr>\n",
       "    <tr>\n",
       "      <th>Nepal</th>\n",
       "      <td>61</td>\n",
       "    </tr>\n",
       "    <tr>\n",
       "      <th>Nigeria</th>\n",
       "      <td>56</td>\n",
       "    </tr>\n",
       "    <tr>\n",
       "      <th>Kenya</th>\n",
       "      <td>54</td>\n",
       "    </tr>\n",
       "    <tr>\n",
       "      <th>Pakistan</th>\n",
       "      <td>54</td>\n",
       "    </tr>\n",
       "    <tr>\n",
       "      <th>Ghana</th>\n",
       "      <td>53</td>\n",
       "    </tr>\n",
       "    <tr>\n",
       "      <th>Hong Kong</th>\n",
       "      <td>50</td>\n",
       "    </tr>\n",
       "  </tbody>\n",
       "</table>\n",
       "</div>"
      ],
      "text/plain": [
       "            Data Science\n",
       "geoName                 \n",
       "Singapore            100\n",
       "China                 92\n",
       "India                 82\n",
       "St. Helena            64\n",
       "Nepal                 61\n",
       "Nigeria               56\n",
       "Kenya                 54\n",
       "Pakistan              54\n",
       "Ghana                 53\n",
       "Hong Kong             50"
      ]
     },
     "execution_count": 15,
     "metadata": {},
     "output_type": "execute_result"
    }
   ],
   "source": [
    "data.sort_values(by = 'Data Science', ascending=False)[:10]"
   ]
  },
  {
   "cell_type": "markdown",
   "metadata": {},
   "source": [
    "Values ​​are calculated on a scale of 0 to 100, where 100 is the most popular location as a fraction of the total searches for that location, a value of 50 indicates a location half as popular. Now let’s visualize the above search results to get better insights"
   ]
  },
  {
   "cell_type": "code",
   "execution_count": 21,
   "metadata": {
    "ExecuteTime": {
     "end_time": "2021-07-13T12:38:44.767207Z",
     "start_time": "2021-07-13T12:38:44.543935Z"
    }
   },
   "outputs": [
    {
     "data": {
      "image/png": "[encoded data removed]",
      "text/plain": [
       "<Figure size 864x576 with 1 Axes>"
      ]
     },
     "metadata": {
      "needs_background": "light"
     },
     "output_type": "display_data"
    }
   ],
   "source": [
    "df = data.sort_values(by = 'Data Science', ascending=False)[:10]\n",
    "df.reset_index().plot(x=\"geoName\", y=\"Data Science\", figsize=(12,8), kind=\"bar\")\n",
    "plt.show()"
   ]
  },
  {
   "cell_type": "markdown",
   "metadata": {},
   "source": [
    "## Keyword Research with Python for Daily Search Trends"
   ]
  },
  {
   "cell_type": "markdown",
   "metadata": {},
   "source": [
    "Now let’s take a look at the top daily search trends around the world. To do this, we need to use the trending_searches () method:"
   ]
  },
  {
   "cell_type": "code",
   "execution_count": 24,
   "metadata": {
    "ExecuteTime": {
     "end_time": "2021-07-13T12:40:20.796839Z",
     "start_time": "2021-07-13T12:40:20.359543Z"
    }
   },
   "outputs": [
    {
     "name": "stdout",
     "output_type": "stream",
     "text": [
      "                      0\n",
      "0    Взрыв в Геленджике\n",
      "1         Эдриан Броуди\n",
      "2             Евро-2020\n",
      "3                Футбол\n",
      "4                 Спорт\n",
      "5   Божьи коровки анапа\n",
      "6               Пикфорд\n",
      "7         Иван Куренбин\n",
      "8               Манчини\n",
      "9              Джокович\n",
      "10               Сепсис\n",
      "11      Юлия Бордовских\n",
      "12           Гарри Кейн\n",
      "13        Forza Italia!\n",
      "14             Жоржиньо\n"
     ]
    }
   ],
   "source": [
    "data = trends.trending_searches(pn=\"russia\")\n",
    "print(data.head(15))"
   ]
  },
  {
   "cell_type": "markdown",
   "metadata": {},
   "source": [
    "Lots of football related terms as well as hot topics."
   ]
  },
  {
   "cell_type": "markdown",
   "metadata": {},
   "source": [
    "## Google Keyword Suggestion"
   ]
  },
  {
   "cell_type": "markdown",
   "metadata": {},
   "source": [
    "Now, let’s see how we can get the google keywords suggestion for keyword research with python. Keywords are those words that are mostly typed by users in the search engine to find about a particular topic:"
   ]
  },
  {
   "cell_type": "code",
   "execution_count": 27,
   "metadata": {
    "ExecuteTime": {
     "end_time": "2021-07-13T12:42:32.814919Z",
     "start_time": "2021-07-13T12:42:32.527693Z"
    }
   },
   "outputs": [
    {
     "name": "stdout",
     "output_type": "stream",
     "text": [
      "             mid                  title                  type\n",
      "0  /g/11b63bjb2c  Broadcast programming                 Topic\n",
      "1       /m/01t6b                      C  Programming language\n",
      "2     /m/025sbhf   Software development                 Topic\n",
      "3     /m/07sbkfb                   Java  Programming language\n",
      "4       /m/01mf_   Computer programming                 Topic\n"
     ]
    }
   ],
   "source": [
    "keyword = trends.suggestions(keyword=\"Programming\")\n",
    "data = pd.DataFrame(keyword)\n",
    "print(data.head())"
   ]
  },
  {
   "cell_type": "code",
   "execution_count": null,
   "metadata": {},
   "outputs": [],
   "source": []
  }
 ],
 "metadata": {
  "kernelspec": {
   "display_name": "Python 3",
   "language": "python",
   "name": "python3"
  },
  "language_info": {
   "codemirror_mode": {
    "name": "ipython",
    "version": 3
   },
   "file_extension": ".py",
   "mimetype": "text/x-python",
   "name": "python",
   "nbconvert_exporter": "python",
   "pygments_lexer": "ipython3",
   "version": "3.7.6"
  },
  "toc": {
   "base_numbering": 1,
   "nav_menu": {},
   "number_sections": true,
   "sideBar": true,
   "skip_h1_title": false,
   "title_cell": "Table of Contents",
   "title_sidebar": "Contents",
   "toc_cell": false,
   "toc_position": {},
   "toc_section_display": true,
   "toc_window_display": false
  }
 },
 "nbformat": 4,
 "nbformat_minor": 4
}
